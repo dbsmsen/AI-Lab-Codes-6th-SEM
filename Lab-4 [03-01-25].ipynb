{
 "cells": [
  {
   "cell_type": "code",
   "execution_count": 1,
   "id": "89eb1b7f-595f-462a-a0aa-ff61c5ee8c0c",
   "metadata": {},
   "outputs": [],
   "source": [
    "#1. WAP that removes all duplicate elements from a list without using set() and preserves the original order."
   ]
  },
  {
   "cell_type": "code",
   "execution_count": 3,
   "id": "c96b387b-cf98-4e75-babc-0defc36b4a18",
   "metadata": {},
   "outputs": [
    {
     "name": "stdout",
     "output_type": "stream",
     "text": [
      "[1, 2, 3, 4, 5]\n"
     ]
    }
   ],
   "source": [
    "def remove_duplicates(lst):\n",
    "    unique_lst = []\n",
    "    for item in lst:\n",
    "        if item not in unique_lst:\n",
    "            unique_lst.append(item)\n",
    "    return unique_lst\n",
    "\n",
    "my_list = [1, 2, 2, 3, 4, 4, 5, 1]\n",
    "unique_list = remove_duplicates(my_list)\n",
    "print(unique_list)"
   ]
  },
  {
   "cell_type": "code",
   "execution_count": null,
   "id": "27ea5b4d-1db5-4406-abd4-50b9409f7e82",
   "metadata": {},
   "outputs": [],
   "source": [
    "#2. WAP to rotate a list to the right by k positions, where k is an integer provided as input using list."
   ]
  },
  {
   "cell_type": "code",
   "execution_count": 38,
   "id": "43223a73-dfb8-42b3-9cc3-aba04499e46e",
   "metadata": {},
   "outputs": [
    {
     "name": "stdout",
     "output_type": "stream",
     "text": [
      "[4, 5, 1, 2, 3]\n"
     ]
    }
   ],
   "source": [
    "def rotate_list(lst, k):\n",
    "    k = k % len(lst)\n",
    "    return lst[-k:] + lst[:-k]\n",
    "\n",
    "my_list = [1, 2, 3, 4, 5]\n",
    "k = 2\n",
    "rotated_list = rotate_list(my_list, k)\n",
    "print(rotated_list) "
   ]
  },
  {
   "cell_type": "code",
   "execution_count": null,
   "id": "79c5e42c-6eaf-449c-928e-428b58470eef",
   "metadata": {},
   "outputs": [],
   "source": [
    "#3. Given a dictionary where the keys are student names and the values are lists of scores, \n",
    "#WAP to calculate the average score for each student and return it as a dictionary."
   ]
  },
  {
   "cell_type": "code",
   "execution_count": 34,
   "id": "5ff67543-f698-4aab-9d4b-7ae8eca6e53d",
   "metadata": {},
   "outputs": [
    {
     "name": "stdout",
     "output_type": "stream",
     "text": [
      "{'Alice': 89.0, 'Bob': 87.66666666666667, 'Charlie': 79.0}\n"
     ]
    }
   ],
   "source": [
    "def calculate_average_scores(student_scores):\n",
    "    average_scores = {}\n",
    "    for student, scores in student_scores.items():\n",
    "        average_scores[student] = sum(scores) / len(scores)\n",
    "    return average_scores\n",
    "\n",
    "student_scores = {\n",
    "    \"Alice\": [90, 85, 92],\n",
    "    \"Bob\": [80, 88, 95],\n",
    "    \"Charlie\": [75, 80, 82]\n",
    "}\n",
    "average_scores = calculate_average_scores(student_scores)\n",
    "print(average_scores)"
   ]
  },
  {
   "cell_type": "code",
   "execution_count": null,
   "id": "8b0153d7-5538-4bb9-ba83-49017268dc5c",
   "metadata": {},
   "outputs": [],
   "source": [
    "#4. WAP to count the frequency of each character in a given string and store the result in a dictionary."
   ]
  },
  {
   "cell_type": "code",
   "execution_count": 32,
   "id": "4ffea991-4ccc-4403-8a0d-60b7f804047d",
   "metadata": {},
   "outputs": [
    {
     "name": "stdout",
     "output_type": "stream",
     "text": [
      "{'h': 1, 'e': 1, 'l': 3, 'o': 2, ' ': 1, 'w': 1, 'r': 1, 'd': 1}\n"
     ]
    }
   ],
   "source": [
    "def count_character_frequency(string):\n",
    "    char_freq = {}\n",
    "    for char in string:\n",
    "        char_freq[char] = char_freq.get(char, 0) + 1\n",
    "    return char_freq\n",
    "\n",
    "my_string = \"hello world\"\n",
    "char_freq = count_character_frequency(my_string)\n",
    "print(char_freq)"
   ]
  },
  {
   "cell_type": "code",
   "execution_count": null,
   "id": "437f599c-3737-440e-843c-426a6928cb87",
   "metadata": {},
   "outputs": [],
   "source": [
    "#5. WAP to find the first non-repeating character in a string. If all characters repeat, return “None”."
   ]
  },
  {
   "cell_type": "code",
   "execution_count": 30,
   "id": "06e947d4-4cea-47c8-8c7d-34d84d2f2b8f",
   "metadata": {},
   "outputs": [
    {
     "name": "stdout",
     "output_type": "stream",
     "text": [
      "c\n"
     ]
    }
   ],
   "source": [
    "def find_first_non_repeating_char(string):\n",
    "    char_freq = {}\n",
    "    for char in string:\n",
    "        char_freq[char] = char_freq.get(char, 0) + 1\n",
    "\n",
    "    for char in string:\n",
    "        if char_freq[char] == 1:\n",
    "            return char\n",
    "\n",
    "    return \"None\"\n",
    "\n",
    "my_string = \"aabbc\"\n",
    "first_non_repeating = find_first_non_repeating_char(my_string)\n",
    "print(first_non_repeating)"
   ]
  },
  {
   "cell_type": "code",
   "execution_count": null,
   "id": "2208bb5f-acc5-4b2f-b855-aac08819fb7c",
   "metadata": {},
   "outputs": [],
   "source": [
    "#6. WAP that takes a dictionary where keys are employee names and values are their respective salaries. \n",
    "#Return the top 3 employees with the highest salaries in descending order. If there are ties, sort by name alphabetically."
   ]
  },
  {
   "cell_type": "code",
   "execution_count": 26,
   "id": "7e4953ea-7a55-482e-8299-d29ecf1139eb",
   "metadata": {},
   "outputs": [
    {
     "name": "stdout",
     "output_type": "stream",
     "text": [
      "[('Bob', 60000), ('David', 60000), ('Eve', 58000)]\n"
     ]
    }
   ],
   "source": [
    "def find_top_3_employees(employee_salaries):\n",
    "    sorted_employees = sorted(employee_salaries.items(), key=lambda x: (-x[1], x[0]))\n",
    "    return sorted_employees[:3]\n",
    "\n",
    "employee_salaries = {\n",
    "    \"Alice\": 50000,\n",
    "    \"Bob\": 60000,\n",
    "    \"Charlie\": 55000,\n",
    "    \"David\": 60000,\n",
    "    \"Eve\": 58000\n",
    "}\n",
    "top_3_employees = find_top_3_employees(employee_salaries)\n",
    "print(top_3_employees)"
   ]
  },
  {
   "cell_type": "code",
   "execution_count": null,
   "id": "f92cf595-a98d-48fe-8fc6-83bbb8f66a13",
   "metadata": {},
   "outputs": [],
   "source": [
    "#7. WAP to find the longest substring of a given string where all characters are unique.\n",
    "#Return both the substring and its length."
   ]
  },
  {
   "cell_type": "code",
   "execution_count": 24,
   "id": "ad28c8de-281d-4bc5-a0ac-a10c829ebb9d",
   "metadata": {},
   "outputs": [
    {
     "name": "stdout",
     "output_type": "stream",
     "text": [
      "abc 3\n"
     ]
    }
   ],
   "source": [
    "def find_longest_unique_substring(string):\n",
    "    longest_substring = \"\"\n",
    "    current_substring = \"\"\n",
    "    char_set = set()\n",
    "\n",
    "    for char in string:\n",
    "        if char not in char_set:\n",
    "            current_substring += char\n",
    "            char_set.add(char)\n",
    "        else:\n",
    "            if len(current_substring) > len(longest_substring):\n",
    "                longest_substring = current_substring\n",
    "            current_substring = char\n",
    "            char_set = set(char)\n",
    "\n",
    "    if len(current_substring) > len(longest_substring):\n",
    "        longest_substring = current_substring\n",
    "\n",
    "    return longest_substring, len(longest_substring)\n",
    "\n",
    "my_string = \"abcabcbb\"\n",
    "longest_substring, length = find_longest_unique_substring(my_string)\n",
    "print(longest_substring, length)"
   ]
  },
  {
   "cell_type": "code",
   "execution_count": null,
   "id": "c356e75e-e154-4b5d-8b20-257ceb1e22a7",
   "metadata": {},
   "outputs": [],
   "source": []
  }
 ],
 "metadata": {
  "kernelspec": {
   "display_name": "Python 3 (ipykernel)",
   "language": "python",
   "name": "python3"
  },
  "language_info": {
   "codemirror_mode": {
    "name": "ipython",
    "version": 3
   },
   "file_extension": ".py",
   "mimetype": "text/x-python",
   "name": "python",
   "nbconvert_exporter": "python",
   "pygments_lexer": "ipython3",
   "version": "3.11.7"
  }
 },
 "nbformat": 4,
 "nbformat_minor": 5
}
