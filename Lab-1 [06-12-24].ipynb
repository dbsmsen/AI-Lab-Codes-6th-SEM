{
 "cells": [
  {
   "cell_type": "code",
   "execution_count": 3,
   "id": "4dc3836c-c3c4-462e-b04e-b8171d016723",
   "metadata": {},
   "outputs": [
    {
     "name": "stdin",
     "output_type": "stream",
     "text": [
      "Enter your name:  deb\n",
      "Enter your age:  22\n"
     ]
    },
    {
     "name": "stdout",
     "output_type": "stream",
     "text": [
      "Hello, deb! You were born in the year 2002.\n"
     ]
    }
   ],
   "source": [
    "#1. Write a program that takes the user's name and age as input, calculates the year they were born,\n",
    "#and then prints a message including their name and birth year.\n",
    "\n",
    "name = input(\"Enter your name: \")\n",
    "age = int(input(\"Enter your age: \"))\n",
    "import datetime\n",
    "current_year = datetime.datetime.now().year\n",
    "birth_year = current_year - age\n",
    "print(f\"Hello, {name}! You were born in the year {birth_year}.\")"
   ]
  },
  {
   "cell_type": "code",
   "execution_count": 6,
   "id": "c1961671-cfb6-4109-bbd5-86d2be1021fc",
   "metadata": {},
   "outputs": [
    {
     "name": "stdin",
     "output_type": "stream",
     "text": [
      "Enter the radius of the circle:  4\n"
     ]
    },
    {
     "name": "stdout",
     "output_type": "stream",
     "text": [
      "The area of the circle with radius 4.0 is 50.27\n"
     ]
    }
   ],
   "source": [
    "#2. Define a constant for pi, calculate the area of a circle using a radius input, and include comments to explain your code.\n",
    "\n",
    "pi = 3.14159\n",
    "radius = float(input(\"Enter the radius of the circle: \"))\n",
    "area = pi * radius**2\n",
    "print(f\"The area of the circle with radius {radius} is {area:.2f}\")"
   ]
  },
  {
   "cell_type": "code",
   "execution_count": null,
   "id": "81bdf940-6e03-4832-91c4-1b6ef0d06750",
   "metadata": {},
   "outputs": [],
   "source": []
  }
 ],
 "metadata": {
  "kernelspec": {
   "display_name": "Python 3 (ipykernel)",
   "language": "python",
   "name": "python3"
  },
  "language_info": {
   "codemirror_mode": {
    "name": "ipython",
    "version": 3
   },
   "file_extension": ".py",
   "mimetype": "text/x-python",
   "name": "python",
   "nbconvert_exporter": "python",
   "pygments_lexer": "ipython3",
   "version": "3.11.7"
  }
 },
 "nbformat": 4,
 "nbformat_minor": 5
}
