{
 "cells": [
  {
   "cell_type": "code",
   "execution_count": null,
   "id": "77a17649-62b3-46dd-bc5e-fe70d03a956f",
   "metadata": {},
   "outputs": [],
   "source": [
    "#Problem Statement: Given a grid-based maze where 0 represents walls and 1 represents walkable paths, \n",
    "#find the shortest path from a start cell to an end cell.\n",
    "\n",
    "#Tasks:\n",
    "#• Use BFS to find the shortest path.\n",
    "#• Use DFS to explore all possible paths and report one valid path (not necessarily the shortest).\n",
    "#• Compare the number of nodes explored by BFS and DFS."
   ]
  },
  {
   "cell_type": "code",
   "execution_count": 14,
   "id": "37e0435e-8cf1-4018-a164-6e9d708852bd",
   "metadata": {},
   "outputs": [
    {
     "name": "stdout",
     "output_type": "stream",
     "text": [
      "Solution: ['A', 'B', 'C', 'D', 'G', 'E', 'H', 'F', 'K', 'I', 'L', 'J', 'M', 'N']\n",
      "Costs: 13\n"
     ]
    }
   ],
   "source": [
    "def bfs(graph, start_node, end_node):\n",
    "\n",
    "    solution = []\n",
    "    costs = 0\n",
    "\n",
    "    frontier = []\n",
    "    visited = []\n",
    "\n",
    "    frontier.append(start_node)\n",
    "    visited.append(start_node)\n",
    "\n",
    "    while frontier:\n",
    "\n",
    "        selected_node = frontier.pop(0)\n",
    "\n",
    "        if selected_node == end_node:\n",
    "            solution.append(selected_node)\n",
    "            break\n",
    "        \n",
    "        solution.append(selected_node)\n",
    "\n",
    "        for neighbour in graph[selected_node]:\n",
    "            if neighbour not in visited:\n",
    "                frontier.append(neighbour)\n",
    "                visited.append(neighbour)\n",
    "\n",
    "        costs += 1\n",
    "\n",
    "    return solution, costs\n",
    "state_space = {\n",
    "    \"A\": [\"B\"],\n",
    "    \"B\": [\"C\"],\n",
    "    \"C\": [\"D\", \"G\"],\n",
    "    \"D\": [\"E\"],\n",
    "    \"E\": [\"F\"],\n",
    "    \"F\": [],\n",
    "    \"G\": [\"H\"],\n",
    "    \"H\": [\"K\", \"I\"],\n",
    "    \"K\": [\"L\"],\n",
    "    \"L\": [\"M\"],\n",
    "    \"M\": [\"N\"],\n",
    "    \"N\": [],\n",
    "    \"I\": [\"J\"],\n",
    "    \"J\": [],\n",
    "}\n",
    "\n",
    "start_state = \"A\"\n",
    "\n",
    "goal_state = \"N\"\n",
    "\n",
    "solution, costs = bfs(state_space, start_state, goal_state)\n",
    "\n",
    "print(\"Solution: {}\".format(solution))\n",
    "print(\"Costs: {}\".format(costs))"
   ]
  },
  {
   "cell_type": "code",
   "execution_count": null,
   "id": "9cc55508-646e-44d2-a7da-4305ad9fb43b",
   "metadata": {},
   "outputs": [],
   "source": []
  }
 ],
 "metadata": {
  "kernelspec": {
   "display_name": "Python 3 (ipykernel)",
   "language": "python",
   "name": "python3"
  },
  "language_info": {
   "codemirror_mode": {
    "name": "ipython",
    "version": 3
   },
   "file_extension": ".py",
   "mimetype": "text/x-python",
   "name": "python",
   "nbconvert_exporter": "python",
   "pygments_lexer": "ipython3",
   "version": "3.11.7"
  }
 },
 "nbformat": 4,
 "nbformat_minor": 5
}
