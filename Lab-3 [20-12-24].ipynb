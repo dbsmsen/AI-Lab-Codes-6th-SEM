{
 "cells": [
  {
   "cell_type": "code",
   "execution_count": 1,
   "id": "4717c1df-52fa-4427-89cc-a689550c3367",
   "metadata": {},
   "outputs": [],
   "source": [
    "#1. Password Validator: Develop a Python function to validate a user&#39;s password. \n",
    "#The function should check for minimum length, presence of uppercase and lowercase\n",
    "#letters, at least one digit, and a special character. If the password is valid, \n",
    "#return True, otherwise return False and display an informative error message."
   ]
  },
  {
   "cell_type": "code",
   "execution_count": 7,
   "id": "13ced785-fb94-42bf-8cdc-eb3a4520c8f1",
   "metadata": {},
   "outputs": [
    {
     "name": "stdin",
     "output_type": "stream",
     "text": [
      "Enter your password:  dhvjH@#8923\n"
     ]
    },
    {
     "name": "stdout",
     "output_type": "stream",
     "text": [
      "Password is valid.\n"
     ]
    }
   ],
   "source": [
    "import re\n",
    "\n",
    "def validate_password(password):\n",
    "    min_length = 8\n",
    "    if len(password) < min_length:\n",
    "        return False, \"Password must be at least 8 characters long.\"\n",
    "    \n",
    "    if not re.search(r'[A-Z]', password):\n",
    "        return False, \"Password must contain at least one uppercase letter.\"\n",
    "    \n",
    "    if not re.search(r'[a-z]', password):\n",
    "        return False, \"Password must contain at least one lowercase letter.\"\n",
    "    \n",
    "    if not re.search(r'\\d', password):\n",
    "        return False, \"Password must contain at least one digit.\"\n",
    "    \n",
    "    if not re.search(r'[!@#$%^&*(),.?\":{}|<>]', password):\n",
    "        return False, \"Password must contain at least one special character.\"\n",
    "    \n",
    "    return True, \"Password is valid.\"\n",
    "    \n",
    "password = input(\"Enter your password: \")\n",
    "is_valid, message = validate_password(password)\n",
    "print(message)\n"
   ]
  },
  {
   "cell_type": "code",
   "execution_count": 9,
   "id": "a8342395-c523-4697-a3a0-c6b9e52eb209",
   "metadata": {},
   "outputs": [],
   "source": [
    "#2. Area Calculator: Write a Python function that calculates the area of different shapes (triangle, square, rectangle, and circle). \n",
    "#The function should accept the necessary dimensions as arguments and return the corresponding area."
   ]
  },
  {
   "cell_type": "code",
   "execution_count": 11,
   "id": "d720d67f-5c91-445d-9af9-ec9eb46c0c83",
   "metadata": {},
   "outputs": [
    {
     "name": "stdout",
     "output_type": "stream",
     "text": [
      "25.0\n",
      "16\n",
      "24\n",
      "153.93804002589985\n",
      "Error: Unsupported shape.\n"
     ]
    }
   ],
   "source": [
    "import math\n",
    "\n",
    "def calculate_area(shape, **dimensions):\n",
    "    \n",
    "    if shape == \"triangle\":\n",
    "        base = dimensions.get(\"base\")\n",
    "        height = dimensions.get(\"height\")\n",
    "        if base is None or height is None:\n",
    "            return \"Error: Missing base or height for triangle.\"\n",
    "        return 0.5 * base * height\n",
    "    \n",
    "    elif shape == \"square\":\n",
    "        side = dimensions.get(\"side\")\n",
    "        if side is None:\n",
    "            return \"Error: Missing side length for square.\"\n",
    "        return side ** 2\n",
    "    \n",
    "    elif shape == \"rectangle\":\n",
    "        length = dimensions.get(\"length\")\n",
    "        width = dimensions.get(\"width\")\n",
    "        if length is None or width is None:\n",
    "            return \"Error: Missing length or width for rectangle.\"\n",
    "        return length * width\n",
    "    \n",
    "    elif shape == \"circle\":\n",
    "        radius = dimensions.get(\"radius\")\n",
    "        if radius is None:\n",
    "            return \"Error: Missing radius for circle.\"\n",
    "        return math.pi * radius ** 2\n",
    "    \n",
    "    else:\n",
    "        return \"Error: Unsupported shape.\"\n",
    "\n",
    "print(calculate_area(\"triangle\", base=10, height=5))\n",
    "print(calculate_area(\"square\", side=4))\n",
    "print(calcula te_area(\"rectangle\", length=8, width=3))\n",
    "print(calculate_area(\"circle\", radius=7))\n",
    "print(calculate_area(\"pentagon\", side=5))"
   ]
  },
  {
   "cell_type": "code",
   "execution_count": 13,
   "id": "0c0e6084-56ea-4be7-907c-15efc0c46cd4",
   "metadata": {},
   "outputs": [],
   "source": [
    "#3. Write a program that takes an array of numbers and returns the second largest element in the array."
   ]
  },
  {
   "cell_type": "code",
   "execution_count": 15,
   "id": "a025dc32-9aa9-4ecc-88bf-3ee3db0b7cee",
   "metadata": {},
   "outputs": [
    {
     "name": "stdout",
     "output_type": "stream",
     "text": [
      "Second largest element: 67\n"
     ]
    }
   ],
   "source": [
    "def second_largest(arr):\n",
    "    if len(arr) < 2:\n",
    "        return \"Error: Array must contain at least two distinct elements.\"\n",
    "    \n",
    "    largest = second = float('-inf')\n",
    "    \n",
    "    for num in arr:\n",
    "        if num > largest:\n",
    "            second = largest\n",
    "            largest = num\n",
    "        elif num > second and num != largest:\n",
    "            second = num\n",
    "    \n",
    "    if second == float('-inf'):\n",
    "        return \"Error: Array must contain at least two distinct elements.\"\n",
    "    \n",
    "    return second\n",
    "\n",
    "array = [12, 45, 23, 45, 67, 89, 89]\n",
    "result = second_largest(array)\n",
    "print(\"Second largest element:\", result)"
   ]
  },
  {
   "cell_type": "code",
   "execution_count": 17,
   "id": "40a9fbf2-eac9-42ef-b687-112d41a62f61",
   "metadata": {},
   "outputs": [],
   "source": [
    "#4. Write a program that takes a list of words and returns a dictionary that maps each word to its frequency in the list."
   ]
  },
  {
   "cell_type": "code",
   "execution_count": 19,
   "id": "656527b1-3b96-4bc7-b05f-48d50f9f4b8d",
   "metadata": {},
   "outputs": [
    {
     "name": "stdout",
     "output_type": "stream",
     "text": [
      "Word frequencies: {'apple': 3, 'banana': 2, 'orange': 1}\n"
     ]
    }
   ],
   "source": [
    "def word_frequencies(words):\n",
    "    frequency_dict = {}\n",
    "    \n",
    "    for word in words:\n",
    "        frequency_dict[word] = frequency_dict.get(word, 0) + 1\n",
    "    \n",
    "    return frequency_dict\n",
    "\n",
    "words_list = [\"apple\", \"banana\", \"apple\", \"orange\", \"banana\", \"apple\"]\n",
    "result = word_frequencies(words_list)\n",
    "print(\"Word frequencies:\", result)"
   ]
  },
  {
   "cell_type": "code",
   "execution_count": 21,
   "id": "dfb02910-4ef0-4e8a-9ee8-8972379835d2",
   "metadata": {},
   "outputs": [],
   "source": [
    "#5. Write a Python program that takes two sets of integers as input and returns a new set containing \n",
    "#all the elements that are common to both sets, but the common elements should be raised to the power of 2."
   ]
  },
  {
   "cell_type": "code",
   "execution_count": 23,
   "id": "6b3bb21a-6846-4ae6-8899-9739a2e5462b",
   "metadata": {},
   "outputs": [
    {
     "name": "stdout",
     "output_type": "stream",
     "text": [
      "Common elements squared: {16, 9, 25}\n"
     ]
    }
   ],
   "source": [
    "def common_elements_squared(set1, set2):\n",
    "    \n",
    "    common_elements = set1 & set2 \n",
    "    \n",
    "    result = {x ** 2 for x in common_elements}\n",
    "    \n",
    "    return result\n",
    "\n",
    "set_a = {1, 2, 3, 4, 5}\n",
    "set_b = {3, 4, 5, 6, 7}\n",
    "result = common_elements_squared(set_a, set_b)\n",
    "print(\"Common elements squared:\", result)"
   ]
  },
  {
   "cell_type": "code",
   "execution_count": 25,
   "id": "97bb3042-f62a-4275-8c3f-8eadb6cf999c",
   "metadata": {},
   "outputs": [],
   "source": [
    "#6. Write a Python code to rotate a given 2D square matrix (NxN) by 90 degrees clockwise in-place. \n",
    "#The function should modify the original matrix and return the modified matrix."
   ]
  },
  {
   "cell_type": "code",
   "execution_count": 27,
   "id": "749f7533-2931-4727-a5ed-ad09b9077c33",
   "metadata": {},
   "outputs": [
    {
     "name": "stdout",
     "output_type": "stream",
     "text": [
      "Rotated matrix:\n",
      "[7, 4, 1]\n",
      "[8, 5, 2]\n",
      "[9, 6, 3]\n"
     ]
    }
   ],
   "source": [
    "def rotate_matrix_90_clockwise(matrix):\n",
    "    n = len(matrix)\n",
    "    \n",
    "    for i in range(n):\n",
    "        for j in range(i, n):\n",
    "            matrix[i][j], matrix[j][i] = matrix[j][i], matrix[i][j]\n",
    "    \n",
    "    for row in matrix:\n",
    "        row.reverse()\n",
    "    \n",
    "    return matrix\n",
    "\n",
    "matrix = [\n",
    "    [1, 2, 3],\n",
    "    [4, 5, 6],\n",
    "    [7, 8, 9]\n",
    "]\n",
    "rotated_matrix = rotate_matrix_90_clockwise(matrix)\n",
    "print(\"Rotated matrix:\")\n",
    "for row in rotated_matrix:\n",
    "    print(row)"
   ]
  },
  {
   "cell_type": "code",
   "execution_count": 31,
   "id": "6377ef27-2061-43ec-8cf5-39d8f12a4564",
   "metadata": {},
   "outputs": [],
   "source": [
    "#7. Given a list of integers, write a Python program to find the longest increasing subsequence. \n",
    "#The function should return the length of the subsequence and the subsequence itself. \n",
    "#Ensure that the subsequence is a continuous subsequence (not necessarily unique)."
   ]
  },
  {
   "cell_type": "code",
   "execution_count": 33,
   "id": "1bc45dd1-547f-4e47-8c99-00bd581a074b",
   "metadata": {},
   "outputs": [
    {
     "name": "stdout",
     "output_type": "stream",
     "text": [
      "Length of longest increasing subsequence: 5\n",
      "Longest increasing subsequence: [1, 4, 5, 6, 7]\n"
     ]
    }
   ],
   "source": [
    "def longest_increasing_subsequence(nums):\n",
    "    \n",
    "    if not nums:\n",
    "        return 0, []\n",
    "    \n",
    "    max_length = 1\n",
    "    current_length = 1\n",
    "    start_index = 0\n",
    "    max_start_index = 0\n",
    "    \n",
    "    for i in range(1, len(nums)):\n",
    "        if nums[i] > nums[i - 1]:\n",
    "            current_length += 1\n",
    "        else:\n",
    "            if current_length > max_length:\n",
    "                max_length = current_length\n",
    "                max_start_index = start_index\n",
    "            current_length = 1\n",
    "            start_index = i\n",
    "    \n",
    "    if current_length > max_length:\n",
    "        max_length = current_length\n",
    "        max_start_index = start_index\n",
    "    \n",
    "    longest_subsequence = nums[max_start_index:max_start_index + max_length]\n",
    "    \n",
    "    return max_length, longest_subsequence\n",
    "    \n",
    "nums = [5, 1, 2, 3, 1, 4, 5, 6, 7]\n",
    "length, subsequence = longest_increasing_subsequence(nums)\n",
    "print(f\"Length of longest increasing subsequence: {length}\")\n",
    "print(f\"Longest increasing subsequence: {subsequence}\")"
   ]
  },
  {
   "cell_type": "code",
   "execution_count": null,
   "id": "2adcd519-361b-41c2-bc70-46cb91d050f5",
   "metadata": {},
   "outputs": [],
   "source": []
  }
 ],
 "metadata": {
  "kernelspec": {
   "display_name": "Python 3 (ipykernel)",
   "language": "python",
   "name": "python3"
  },
  "language_info": {
   "codemirror_mode": {
    "name": "ipython",
    "version": 3
   },
   "file_extension": ".py",
   "mimetype": "text/x-python",
   "name": "python",
   "nbconvert_exporter": "python",
   "pygments_lexer": "ipython3",
   "version": "3.11.7"
  }
 },
 "nbformat": 4,
 "nbformat_minor": 5
}
