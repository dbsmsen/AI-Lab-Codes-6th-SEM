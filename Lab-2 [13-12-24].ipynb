{
 "cells": [
  {
   "cell_type": "code",
   "execution_count": 47,
   "id": "690ca7a7-b68a-432e-b4c8-95ecc8f25475",
   "metadata": {},
   "outputs": [],
   "source": [
    "#1. Create a program that takes two numbers as input, adds them, and prints the result. \n",
    "#Ensure they handle cases where the inputs might be strings (requiring type conversi_on)."
   ]
  },
  {
   "cell_type": "code",
   "execution_count": 18,
   "id": "65da72fa-8caa-4d63-b11d-4e58a4c3c501",
   "metadata": {},
   "outputs": [
    {
     "name": "stdin",
     "output_type": "stream",
     "text": [
      "Enter the first number:  23\n",
      "Enter the second number:  21\n"
     ]
    },
    {
     "name": "stdout",
     "output_type": "stream",
     "text": [
      "The sum of 23.0 and 21.0 is 44.0\n"
     ]
    }
   ],
   "source": [
    "def add_numbers():\n",
    "    try:\n",
    "        num1 = input(\"Enter the first number: \")\n",
    "        num2 = input(\"Enter the second number: \")\n",
    "        \n",
    "        num1 = float(num1)\n",
    "        num2 = float(num2)\n",
    "        \n",
    "        result = num1 + num2\n",
    "\n",
    "        print(f\"The sum of {num1} and {num2} is {result}\")\n",
    "    except ValueError:\n",
    "        print(\"Invalid input. Please enter numeric values.\")\n",
    "\n",
    "if __name__ == \"__main__\":\n",
    "    add_numbers()"
   ]
  },
  {
   "cell_type": "code",
   "execution_count": 45,
   "id": "5e284c4d-cd34-4dc9-9908-096287661cde",
   "metadata": {},
   "outputs": [],
   "source": [
    "#2. Write a program that calculates the area of a rectangle using user-input length and width, and then compare it \n",
    "#with the area of a square with side length half of the rectangle's width."
   ]
  },
  {
   "cell_type": "code",
   "execution_count": 21,
   "id": "6af759e4-8e7f-4b75-a147-b2b2d09ab02d",
   "metadata": {},
   "outputs": [
    {
     "name": "stdin",
     "output_type": "stream",
     "text": [
      "Enter the length of the rectangle:  3\n",
      "Enter the width of the rectangle:  6\n"
     ]
    },
    {
     "name": "stdout",
     "output_type": "stream",
     "text": [
      "The area of the rectangle is 18.0\n",
      "The area of the square (side length = 3.0) is 9.0\n",
      "The rectangle has a larger area than the square.\n"
     ]
    }
   ],
   "source": [
    "def calculate_areas():\n",
    "    try:\n",
    "        length = input(\"Enter the length of the rectangle: \")\n",
    "        width = input(\"Enter the width of the rectangle: \")\n",
    "\n",
    "        length = float(length)\n",
    "        width = float(width)\n",
    "\n",
    "        rectangle_area = length * width\n",
    "\n",
    "        square_side = width / 2\n",
    "        square_area = square_side ** 2\n",
    "\n",
    "        print(f\"The area of the rectangle is {rectangle_area}\")\n",
    "        print(f\"The area of the square (side length = {square_side}) is {square_area}\")\n",
    "\n",
    "        if rectangle_area > square_area:\n",
    "            print(\"The rectangle has a larger area than the square.\")\n",
    "        elif rectangle_area < square_area:\n",
    "            print(\"The square has a larger area than the rectangle.\")\n",
    "        else:\n",
    "            print(\"The rectangle and the square have the same area.\")\n",
    "    except ValueError:\n",
    "        print(\"Invalid input. Please enter numeric values.\")\n",
    "\n",
    "if __name__ == \"__main__\":\n",
    "    calculate_areas()\n"
   ]
  },
  {
   "cell_type": "code",
   "execution_count": null,
   "id": "606305a8-701c-4a5a-aa60-44e14ed13cba",
   "metadata": {},
   "outputs": [],
   "source": [
    "#3. Write a program that takes an integer input, checks if it's even or odd, and prints a message accordingly. \n",
    "#Additionally, use the modulo operation for this determination."
   ]
  },
  {
   "cell_type": "code",
   "execution_count": 26,
   "id": "9042869a-77b5-41c7-98e8-2389f216a116",
   "metadata": {},
   "outputs": [
    {
     "name": "stdin",
     "output_type": "stream",
     "text": [
      "Enter an integer:  6\n"
     ]
    },
    {
     "name": "stdout",
     "output_type": "stream",
     "text": [
      "6 is even.\n"
     ]
    }
   ],
   "source": [
    "def check_even_or_odd():\n",
    "    try:\n",
    "        number = int(input(\"Enter an integer: \"))\n",
    "\n",
    "        if number % 2 == 0:\n",
    "            print(f\"{number} is even.\")\n",
    "        else:\n",
    "            print(f\"{number} is odd.\")\n",
    "    except ValueError:\n",
    "        print(\"Invalid input. Please enter an integer.\")\n",
    "\n",
    "if __name__ == \"__main__\":\n",
    "    check_even_or_odd()\n"
   ]
  },
  {
   "cell_type": "code",
   "execution_count": null,
   "id": "9b95abac-b0e1-4aa8-812e-d1e8f254bb9a",
   "metadata": {},
   "outputs": [],
   "source": [
    "#4. Create a Python program that functions as an advanced calculator. It should take user input for mathematical expressions and evaluate \n",
    "#them, supporting basic operations, parentheses, and scientific notation."
   ]
  },
  {
   "cell_type": "code",
   "execution_count": null,
   "id": "85cf7f0c-69f7-4778-a78e-06d1cea5d73d",
   "metadata": {},
   "outputs": [
    {
     "name": "stdin",
     "output_type": "stream",
     "text": [
      "Enter a mathematical expression (or type 'exit' to quit):  5 + (4*2) - 6 + (math.sqrt(21)) \n"
     ]
    },
    {
     "name": "stdout",
     "output_type": "stream",
     "text": [
      "Result: 11.582575694955839\n"
     ]
    }
   ],
   "source": [
    "import math\n",
    "\n",
    "def advanced_calculator():\n",
    "    while True:\n",
    "        try:\n",
    "            expression = input(\"Enter a mathematical expression (or type 'exit' to quit): \")\n",
    "    \n",
    "            if expression.lower() == 'exit':\n",
    "                print(\"Exiting the calculator!\")\n",
    "                break\n",
    "                \n",
    "            result = eval(expression, {\"__builtins__\": None}, {\n",
    "                \"math\": math,\n",
    "                \"abs\": abs,\n",
    "                \"round\": round,\n",
    "                \"pow\": pow\n",
    "            })\n",
    "\n",
    "            print(f\"Result: {result}\")\n",
    "        except Exception as e:\n",
    "            print(f\"Error: {e}. Please enter a valid expression.\")\n",
    "\n",
    "if __name__ == \"__main__\":\n",
    "    advanced_calculator()\n"
   ]
  },
  {
   "cell_type": "code",
   "execution_count": null,
   "id": "483ad8a1-a342-4edc-9e7f-b03d04cae604",
   "metadata": {},
   "outputs": [],
   "source": [
    "#5. Write a Python program to generate the Fibonacci series up to a specified number of terms. \n",
    "#Use a while loop and branching to implement the logic."
   ]
  },
  {
   "cell_type": "code",
   "execution_count": 35,
   "id": "246f24d2-b8ce-454a-ba0f-8b7961a90410",
   "metadata": {},
   "outputs": [
    {
     "name": "stdin",
     "output_type": "stream",
     "text": [
      "Enter the number of terms for the Fibonacci series:  5\n"
     ]
    },
    {
     "name": "stdout",
     "output_type": "stream",
     "text": [
      "Fibonacci series:\n",
      "0 1 1 2 3 \n"
     ]
    }
   ],
   "source": [
    "def generate_fibonacci():\n",
    "    try:\n",
    "        num_terms = int(input(\"Enter the number of terms for the Fibonacci series: \"))\n",
    "\n",
    "        if num_terms <= 0:\n",
    "            print(\"Please enter a positive integer.\")\n",
    "            return\n",
    "\n",
    "        a, b = 0, 1\n",
    "        count = 0\n",
    "\n",
    "        print(\"Fibonacci series:\")\n",
    "        while count < num_terms:\n",
    "            print(a, end=\" \")\n",
    "            a, b = b, a + b\n",
    "            count += 1\n",
    "        print()\n",
    "    except ValueError:\n",
    "        print(\"Invalid input. Please enter a positive integer.\")\n",
    "\n",
    "if __name__ == \"__main__\":\n",
    "    generate_fibonacci()\n"
   ]
  },
  {
   "cell_type": "code",
   "execution_count": 51,
   "id": "69ca58d8-5f28-4e99-b341-b789443e1441",
   "metadata": {},
   "outputs": [],
   "source": [
    "#6. Create a program that takes user input and checks whether the entered number is a prime number or not. \n",
    "#Utilize a for loop and branching statements."
   ]
  },
  {
   "cell_type": "code",
   "execution_count": 41,
   "id": "21698e68-24af-418b-a23c-28654f96af6a",
   "metadata": {},
   "outputs": [
    {
     "name": "stdin",
     "output_type": "stream",
     "text": [
      "Enter a number to check if it is a prime number:  7\n"
     ]
    },
    {
     "name": "stdout",
     "output_type": "stream",
     "text": [
      "7 is a prime number.\n"
     ]
    }
   ],
   "source": [
    "def check_prime():\n",
    "    try:\n",
    "        number = int(input(\"Enter a number to check if it is a prime number: \"))\n",
    "\n",
    "        if number <= 1:\n",
    "            print(f\"{number} is not a prime number.\")\n",
    "            return\n",
    "\n",
    "        is_prime = True\n",
    "        for i in range(2, int(number ** 0.5) + 1):\n",
    "            if number % i == 0:\n",
    "                is_prime = False\n",
    "                break\n",
    "\n",
    "        if is_prime:\n",
    "            print(f\"{number} is a prime number.\")\n",
    "        else:\n",
    "            print(f\"{number} is not a prime number.\")\n",
    "    except ValueError:\n",
    "        print(\"Invalid input. Please enter an integer.\")\n",
    "\n",
    "if __name__ == \"__main__\":\n",
    "    check_prime()\n"
   ]
  },
  {
   "cell_type": "code",
   "execution_count": null,
   "id": "0f79452e-8cde-4158-a4bb-f170747bf9b2",
   "metadata": {},
   "outputs": [],
   "source": []
  }
 ],
 "metadata": {
  "kernelspec": {
   "display_name": "Python 3 (ipykernel)",
   "language": "python",
   "name": "python3"
  },
  "language_info": {
   "codemirror_mode": {
    "name": "ipython",
    "version": 3
   },
   "file_extension": ".py",
   "mimetype": "text/x-python",
   "name": "python",
   "nbconvert_exporter": "python",
   "pygments_lexer": "ipython3",
   "version": "3.11.7"
  }
 },
 "nbformat": 4,
 "nbformat_minor": 5
}
