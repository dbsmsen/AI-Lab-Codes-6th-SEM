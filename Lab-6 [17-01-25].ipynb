{
 "cells": [
  {
   "cell_type": "code",
   "execution_count": 3,
   "id": "3dd395b8-2aed-4fda-933c-cc13689341a5",
   "metadata": {},
   "outputs": [
    {
     "name": "stdout",
     "output_type": "stream",
     "text": [
      "Path found: [(1, 1), (1, 2), (1, 3), (2, 3), (3, 3), (3, 4), (4, 4)]\n",
      "######\n",
      "#S.. #\n",
      "# #.##\n",
      "# #..#\n",
      "#   E#\n",
      "######\n"
     ]
    }
   ],
   "source": [
    "maze = [\n",
    "    ['#', '#', '#', '#', '#', '#'],\n",
    "    ['#', 'S', ' ', ' ', ' ', '#'],\n",
    "    ['#', ' ', '#', ' ', '#', '#'],\n",
    "    ['#', ' ', '#', ' ', ' ', '#'],\n",
    "    ['#', ' ', ' ', ' ', 'E', '#'],\n",
    "    ['#', '#', '#', '#', '#', '#']\n",
    "]\n",
    "\n",
    "start = (1, 1)\n",
    "end = (4, 4)\n",
    "\n",
    "def dfs(maze, start, end):\n",
    "    stack = [[start]]\n",
    "    visited = set()\n",
    "\n",
    "    while stack:\n",
    "        path = stack.pop()\n",
    "        x, y = path[-1]\n",
    "\n",
    "        if (x, y) == end:\n",
    "            return path\n",
    "\n",
    "        visited.add((x, y))\n",
    "\n",
    "        for dx, dy in [(1, 0), (0, 1), (-1, 0), (0, -1)]:\n",
    "            next_x, next_y = x + dx, y + dy\n",
    "\n",
    "            if maze[next_x][next_y] != '#' and (next_x, next_y) not in visited:\n",
    "                new_path = list(path) \n",
    "                new_path.append((next_x, next_y))\n",
    "                stack.append(new_path) \n",
    "\n",
    "    return None\n",
    "\n",
    "path = dfs(maze, start, end)\n",
    "\n",
    "if path:\n",
    "    print(\"Path found:\", path)\n",
    "else:\n",
    "    print(\"No path found.\")\n",
    "\n",
    "def display_maze_with_path(maze, path):\n",
    "    maze_copy = [list(row) for row in maze]\n",
    "    for x, y in path:\n",
    "        if maze_copy[x][y] not in ['S', 'E']:\n",
    "            maze_copy[x][y] = '.'\n",
    "    for row in maze_copy:\n",
    "        print(\"\".join(row))\n",
    "\n",
    "if path:\n",
    "    display_maze_with_path(maze, path)\n"
   ]
  },
  {
   "cell_type": "code",
   "execution_count": null,
   "id": "cf4ea60a-d17e-48db-9b6b-045cfd477902",
   "metadata": {},
   "outputs": [],
   "source": []
  }
 ],
 "metadata": {
  "kernelspec": {
   "display_name": "Python 3 (ipykernel)",
   "language": "python",
   "name": "python3"
  },
  "language_info": {
   "codemirror_mode": {
    "name": "ipython",
    "version": 3
   },
   "file_extension": ".py",
   "mimetype": "text/x-python",
   "name": "python",
   "nbconvert_exporter": "python",
   "pygments_lexer": "ipython3",
   "version": "3.11.7"
  }
 },
 "nbformat": 4,
 "nbformat_minor": 5
}
